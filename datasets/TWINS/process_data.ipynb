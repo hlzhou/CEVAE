{
 "cells": [
  {
   "cell_type": "code",
   "execution_count": 1,
   "metadata": {},
   "outputs": [],
   "source": [
    "import pandas as pd\n",
    "import numpy as np\n",
    "from scipy.special import expit\n",
    "import random "
   ]
  },
  {
   "cell_type": "code",
   "execution_count": 2,
   "metadata": {},
   "outputs": [],
   "source": [
    "covar_type = {'adequacy': 'cat',\n",
    " 'alcohol': 'bin',\n",
    " 'anemia': 'bin',\n",
    " 'birattnd': 'cat',\n",
    " 'birmon': 'cyc',\n",
    " 'bord': 'bin',\n",
    " 'brstate': 'cat',\n",
    " 'brstate_reg': 'cat', \n",
    " 'cardiac': 'bin',\n",
    " 'chyper': 'bin',\n",
    " 'cigar6': 'cat',\n",
    " 'crace': 'cat',\n",
    " 'csex': 'bin',\n",
    " 'data_year': 'cat',\n",
    " 'dfageq': 'cat',\n",
    " 'diabetes': 'bin',\n",
    " 'dlivord_min': 'ord',\n",
    " 'dmar': 'bin',\n",
    " 'drink5': 'cat',\n",
    " 'dtotord_min': 'ord',\n",
    " 'eclamp': 'bin',\n",
    " 'feduc6': 'cat',\n",
    " 'frace': 'cat',\n",
    " 'gestat10': 'cat',\n",
    " 'hemo': 'bin',\n",
    " 'herpes': 'bin',\n",
    " 'hydra': 'bin',\n",
    " 'incervix': 'bin',\n",
    " 'infant_id': 'index do not use',\n",
    " 'lung': 'bin',\n",
    " 'mager8': 'cat',\n",
    " 'meduc6': 'cat',\n",
    " 'mplbir': 'cat',\n",
    " 'mpre5': 'cat',\n",
    " 'mrace': 'cat',\n",
    " 'nprevistq': 'cat',\n",
    " 'orfath': 'cat',\n",
    " 'ormoth': 'cat',\n",
    " 'othermr': 'bin',\n",
    " 'phyper': 'bin',\n",
    " 'pldel': 'cat',\n",
    " 'pre4000': 'bin',\n",
    " 'preterm': 'bin',\n",
    " 'renal': 'bin',\n",
    " 'rh': 'bin',\n",
    " 'stoccfipb': 'cat',\n",
    " 'stoccfipb_reg': 'cat',\n",
    " 'tobacco': 'bin',\n",
    " 'uterine': 'bin'}"
   ]
  },
  {
   "cell_type": "code",
   "execution_count": 3,
   "metadata": {},
   "outputs": [
    {
     "data": {
      "text/plain": [
       "Index(['pldel', 'birattnd', 'brstate', 'mager8', 'ormoth', 'mrace', 'meduc6',\n",
       "       'dmar', 'mplbir', 'mpre5', 'adequacy', 'orfath', 'frace', 'birmon',\n",
       "       'gestat10', 'csex', 'anemia', 'cardiac', 'lung', 'diabetes', 'herpes',\n",
       "       'hydra', 'hemo', 'chyper', 'phyper', 'eclamp', 'incervix', 'pre4000',\n",
       "       'preterm', 'renal', 'rh', 'uterine', 'othermr', 'tobacco', 'alcohol',\n",
       "       'cigar6', 'drink5', 'crace', 'nprevistq', 'dfageq', 'feduc6',\n",
       "       'dlivord_min', 'dtotord_min', 'brstate_reg'],\n",
       "      dtype='object')"
      ]
     },
     "execution_count": 3,
     "metadata": {},
     "output_type": "execute_result"
    }
   ],
   "source": [
    "df_t = pd.read_csv('twin_pairs_T_3years_samesex.csv')\n",
    "df_x = pd.read_csv('twin_pairs_X_3years_samesex.csv')\n",
    "df_y = pd.read_csv('twin_pairs_Y_3years_samesex.csv')\n",
    "\n",
    "mask = np.logical_and(df_t['dbirwt_0'].values < 2000, df_t['dbirwt_1'].values < 2000)\n",
    "\n",
    "df_t = df_t[mask]\n",
    "df_x = df_x[mask]\n",
    "df_y = df_y[mask]\n",
    "\n",
    "del df_t['Unnamed: 0']\n",
    "del df_x['Unnamed: 0']\n",
    "del df_x['Unnamed: 0.1']\n",
    "del df_y['Unnamed: 0']\n",
    "\n",
    "del df_x['infant_id_0']\n",
    "del df_x['infant_id_1']\n",
    "del df_x['data_year']\n",
    "del df_x['mplbir_reg']\n",
    "del df_x['stoccfipb']\n",
    "del df_x['stoccfipb_reg']\n",
    "\n",
    "del df_x['bord_0']\n",
    "del df_x['bord_1']\n",
    "\n",
    "noncat_cols = []\n",
    "cat_cols = []\n",
    "\n",
    "for col in df_x.columns:\n",
    "    df_x[col] = df_x[col].fillna(round(df_x[col].mean()))\n",
    "    \n",
    "    col_type = covar_type[col]\n",
    "    if col_type != 'cat':\n",
    "        noncat_cols.append(col)\n",
    "    else:\n",
    "        cat_cols.append(col)\n",
    "\n",
    "df_x.columns"
   ]
  },
  {
   "cell_type": "code",
   "execution_count": null,
   "metadata": {},
   "outputs": [],
   "source": []
  },
  {
   "cell_type": "code",
   "execution_count": 5,
   "metadata": {},
   "outputs": [
    {
     "name": "stdout",
     "output_type": "stream",
     "text": [
      "0.6284212283044058\n"
     ]
    }
   ],
   "source": [
    "np.random.seed(1)\n",
    "\n",
    "x_cols = list(df_x.columns)\n",
    "x_cols = list(filter(lambda a: a != 'gestat10', x_cols))\n",
    "z_cols = 'gestat10'\n",
    "\n",
    "x = df_x[x_cols].values\n",
    "z = df_x[z_cols].values\n",
    "\n",
    "w_o = np.random.normal(0, 0.1, size=len(x_cols))\n",
    "w_h = np.random.normal(5, 0.1)\n",
    "\n",
    "p = np.dot(w_o, x.T) + np.dot(w_h, z/10.0 - 0.1)\n",
    "p = expit(p)\n",
    "\n",
    "t = np.random.binomial(1, p)\n",
    "print(t.mean())\n",
    "\n",
    "df_y.values[np.arange(df_y.shape[0]), t]\n",
    "y_factual = df_y.values[np.arange(df_y.shape[0]), t]\n",
    "y_cfactual = df_y.values[np.arange(df_y.shape[0]), 1-t]\n",
    "\n",
    "df_y.columns = ['mu0', 'mu1']\n",
    "df_y['treatment'] = t\n",
    "df_y['y_factual'] = y_factual\n",
    "df_y['y_cfactual'] = y_cfactual\n",
    "\n",
    "df_y = df_y[['treatment', 'y_factual', 'y_cfactual', 'mu0', 'mu1']]"
   ]
  },
  {
   "cell_type": "code",
   "execution_count": 6,
   "metadata": {},
   "outputs": [
    {
     "name": "stdout",
     "output_type": "stream",
     "text": [
      "(11984, 44)\n",
      "[7, 14, 15, 16, 17, 18, 19, 20, 21, 22, 23, 24, 25, 26, 27, 28, 29, 30, 31, 32, 33]\n"
     ]
    }
   ],
   "source": [
    "# df_x_cat = []\n",
    "# for col in cat_cols:\n",
    "#     df_x_cat.append(pd.get_dummies(df_x[col],prefix=col))\n",
    "    \n",
    "# df_x_cat = pd.concat(df_x_cat, axis=1)\n",
    "# df_x_noncat = df_x[noncat_cols]\n",
    "# df_x = pd.concat([df_x_cat, df_x_noncat], axis=1)\n",
    "\n",
    "print(df_x.shape)\n",
    "binary_cols = list([elt[0] for elt in covar_type.items() if elt[1] == 'bin' and elt[0] in x_cols])\n",
    "print(list(sorted([x_cols.index(c) for c in binary_cols])))"
   ]
  },
  {
   "cell_type": "code",
   "execution_count": 7,
   "metadata": {},
   "outputs": [],
   "source": [
    "df_final = pd.merge(df_y, df_x, left_index=True, right_index=True)\n",
    "df_final.reset_index(drop=True, inplace=True)\n",
    "df_final.to_csv('twins.csv', index=False)"
   ]
  },
  {
   "cell_type": "code",
   "execution_count": 8,
   "metadata": {},
   "outputs": [],
   "source": [
    "def partition(list_in, n):\n",
    "    random.shuffle(list_in)\n",
    "    return [list_in[i::n] for i in range(n)]\n",
    "\n",
    "num_replications = 10\n",
    "partitions = partition(list(df_final.index), num_replications)"
   ]
  },
  {
   "cell_type": "code",
   "execution_count": 9,
   "metadata": {},
   "outputs": [],
   "source": [
    "df_split = []\n",
    "for i in range(num_replications):\n",
    "    df_split.append(df_final.iloc[partitions[0]])"
   ]
  },
  {
   "cell_type": "code",
   "execution_count": 11,
   "metadata": {},
   "outputs": [],
   "source": [
    "for i in range(num_replications):\n",
    "    df_split[i].to_csv('twins_{}.csv'.format(i+1), index=False, header=False)"
   ]
  },
  {
   "cell_type": "code",
   "execution_count": null,
   "metadata": {},
   "outputs": [],
   "source": []
  },
  {
   "cell_type": "code",
   "execution_count": null,
   "metadata": {},
   "outputs": [],
   "source": []
  }
 ],
 "metadata": {
  "kernelspec": {
   "display_name": "Python 3",
   "language": "python",
   "name": "python3"
  },
  "language_info": {
   "codemirror_mode": {
    "name": "ipython",
    "version": 3
   },
   "file_extension": ".py",
   "mimetype": "text/x-python",
   "name": "python",
   "nbconvert_exporter": "python",
   "pygments_lexer": "ipython3",
   "version": "3.7.2"
  }
 },
 "nbformat": 4,
 "nbformat_minor": 2
}
